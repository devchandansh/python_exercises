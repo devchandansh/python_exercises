{
 "cells": [
  {
   "cell_type": "markdown",
   "id": "1ead59eb-de0f-42cf-b842-46a968860587",
   "metadata": {},
   "source": [
    "## Rounding, Absolute Value and Exponents"
   ]
  },
  {
   "cell_type": "markdown",
   "id": "5e7b3618-507e-491a-a9e5-f37b54df7d96",
   "metadata": {},
   "source": [
    "### Round:"
   ]
  },
  {
   "cell_type": "code",
   "execution_count": 1,
   "id": "35032a56-076a-4972-9381-82b026a837de",
   "metadata": {},
   "outputs": [
    {
     "data": {
      "text/plain": [
       "2"
      ]
     },
     "execution_count": 1,
     "metadata": {},
     "output_type": "execute_result"
    }
   ],
   "source": [
    "# round()\n",
    "\n",
    "myVal = 2.23\n",
    "round(myVal)"
   ]
  },
  {
   "cell_type": "markdown",
   "id": "2b897cef-4854-404f-a154-d645c817a74c",
   "metadata": {},
   "source": [
    "### Absolute Value:"
   ]
  },
  {
   "cell_type": "code",
   "execution_count": 2,
   "id": "db6f619c-4bf6-435f-85a1-0862705d7096",
   "metadata": {},
   "outputs": [
    {
     "name": "stdout",
     "output_type": "stream",
     "text": [
      "13\n"
     ]
    }
   ],
   "source": [
    "# abs()\n",
    "\n",
    "distance = -13\n",
    "print(abs(distance))"
   ]
  },
  {
   "cell_type": "markdown",
   "id": "69274b63-6ac4-4eda-a70f-e605f555aeb8",
   "metadata": {},
   "source": [
    "### Exponential:"
   ]
  },
  {
   "cell_type": "code",
   "execution_count": 3,
   "id": "36a5258c-a40a-49b3-8ade-4f2df5561a1b",
   "metadata": {},
   "outputs": [
    {
     "name": "stdout",
     "output_type": "stream",
     "text": [
      "0.125\n"
     ]
    }
   ],
   "source": [
    "# pow(x,y)\n",
    "\n",
    "chanceOfTails = 0.5\n",
    "inRowTails = 3\n",
    "print(pow(chanceOfTails, inRowTails))\n",
    "\n",
    "\n"
   ]
  },
  {
   "cell_type": "markdown",
   "id": "f0a03bcf-0d2a-4483-9c84-101f5b14b36f",
   "metadata": {},
   "source": [
    " ## Sorted Function:"
   ]
  },
  {
   "cell_type": "code",
   "execution_count": 10,
   "id": "f1d3d64b-22f6-4e57-80a1-366e72158724",
   "metadata": {},
   "outputs": [
    {
     "name": "stdout",
     "output_type": "stream",
     "text": [
      "[-10, -2, 0, 1, 12, 15]\n",
      "[15, 12, 1, 0, -2, -10]\n",
      "['Abhinash', 'Chandan', 'Ram', 'Shyam']\n",
      "['child', 'Favorite', 'is', 'My', 'Ram']\n",
      "['Ram', 'My', 'is', 'Favorite', 'child']\n"
     ]
    }
   ],
   "source": [
    "# lease to Greatest:\n",
    "pointsInaGame = [0,-10,15, -2, 1, 12]\n",
    "sortedGame = sorted(pointsInaGame)\n",
    "print(sortedGame)\n",
    "\n",
    "# Greatest to lease:\n",
    "sortedGame2 = sorted(pointsInaGame, reverse=True)\n",
    "print(sortedGame2)\n",
    "\n",
    "\n",
    "# Alphabetacilly:\n",
    "children = [\"Ram\", \"Shyam\", \"Abhinash\", \"Chandan\"]\n",
    "print(sorted(children))\n",
    "\n",
    "\n",
    "# key Parameters:\n",
    "my_str = \"My Favorite child is Ram\"\n",
    "sorted_str = sorted(my_str.split(), key=str.upper)\n",
    "print(sorted_str)\n",
    "\n",
    "\n",
    "sorted_str2 = sorted(my_str.split(), key=str.upper, reverse=True)\n",
    "print(sorted_str2)\n"
   ]
  },
  {
   "cell_type": "markdown",
   "id": "4302773d-c935-4c37-8c0f-5a717676d1a8",
   "metadata": {},
   "source": [
    "## Type Function:"
   ]
  },
  {
   "cell_type": "code",
   "execution_count": 14,
   "id": "2432fdee-8ff2-45dd-b198-7a146d76663e",
   "metadata": {},
   "outputs": [
    {
     "name": "stdout",
     "output_type": "stream",
     "text": [
      "<class 'range'>\n",
      "<class 'int'>\n",
      "<class 'str'>\n",
      "<class 'int'>\n",
      "<class 'float'>\n",
      "<class 'bool'>\n"
     ]
    }
   ],
   "source": [
    "r = range(0,30)\n",
    "\n",
    "print(type(r)) \n",
    "print(type(10))\n",
    "print(type(\"string\"))\n",
    "print(type(-20))\n",
    "print(type(-20.45))\n",
    "print(type(True))"
   ]
  },
  {
   "cell_type": "code",
   "execution_count": null,
   "id": "c518700c-758f-4876-9bd7-95a40de111cd",
   "metadata": {},
   "outputs": [],
   "source": []
  },
  {
   "cell_type": "raw",
   "id": "16a837a6-c065-4724-872d-8b099656f8e2",
   "metadata": {},
   "source": [
    "## File and File Handling:"
   ]
  },
  {
   "cell_type": "code",
   "execution_count": 2,
   "id": "b648b93e-42e3-4740-8c9b-c2e2995ac837",
   "metadata": {},
   "outputs": [
    {
     "name": "stdout",
     "output_type": "stream",
     "text": [
      "Name test_files.txt\n",
      "Mode w\n"
     ]
    }
   ],
   "source": [
    "# Open a File\n",
    "\n",
    "myfile = open(\"test_files.txt\", \"w\")\n",
    "\n",
    "# w --> Write\n",
    "# r --> Read\n",
    "# r+ --> Read and Write\n",
    "# a --> Append\n",
    "\n",
    "# Show Attributes and properties of the file:\n",
    "print(\"Name \"+ myfile.name)\n",
    "print(\"Mode \" + myfile.mode)\n",
    "\n",
    "# Write to a File:\n",
    "myfile = open(\"test_files.txt\", \"r\")\n"
   ]
  },
  {
   "cell_type": "code",
   "execution_count": null,
   "id": "d0b3e678-56aa-444f-a09b-fff538f23270",
   "metadata": {},
   "outputs": [],
   "source": []
  }
 ],
 "metadata": {
  "kernelspec": {
   "display_name": "Python 3 (ipykernel)",
   "language": "python",
   "name": "python3"
  },
  "language_info": {
   "codemirror_mode": {
    "name": "ipython",
    "version": 3
   },
   "file_extension": ".py",
   "mimetype": "text/x-python",
   "name": "python",
   "nbconvert_exporter": "python",
   "pygments_lexer": "ipython3",
   "version": "3.11.5"
  }
 },
 "nbformat": 4,
 "nbformat_minor": 5
}
