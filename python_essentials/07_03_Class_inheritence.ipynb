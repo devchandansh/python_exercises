{
 "cells": [
  {
   "cell_type": "markdown",
   "id": "a7a8aa48-5aeb-404e-adf4-aa9f1c613309",
   "metadata": {},
   "source": [
    "# Class Inheritence:"
   ]
  },
  {
   "cell_type": "code",
   "execution_count": 8,
   "id": "2db3471f-c711-4a5e-90b7-01ffe87bffcb",
   "metadata": {},
   "outputs": [],
   "source": [
    "class Dog:\n",
    "    _legs =4\n",
    "    \n",
    "    def __init__(self, name):\n",
    "        self.name = name\n",
    "\n",
    "    def speak(self):\n",
    "        print(self.name + 'says: Barks!')\n",
    "\n",
    "    def getLegs(self):\n",
    "        return self._legs\n",
    "\n",
    "\n",
    "# Inheriting Parent Class:\n",
    "class BullDog(Dog):\n",
    "    def speak(self):\n",
    "        print(f'{self.name} says: Yap Yap Yap!')\n",
    "\n"
   ]
  },
  {
   "cell_type": "code",
   "execution_count": 9,
   "id": "49be116d-3ade-451b-9b82-a713b323a387",
   "metadata": {},
   "outputs": [
    {
     "name": "stdout",
     "output_type": "stream",
     "text": [
      "Bull Dog says: Yap Yap Yap!\n"
     ]
    }
   ],
   "source": [
    "# Child Class:\n",
    "\n",
    "dog = BullDog('Bull Dog')\n",
    "dog.speak()"
   ]
  },
  {
   "cell_type": "code",
   "execution_count": 10,
   "id": "ba0dae07-7dc1-44c8-85f5-bfba8b8f3f84",
   "metadata": {},
   "outputs": [
    {
     "name": "stdout",
     "output_type": "stream",
     "text": [
      "Puppysays: Barks!\n"
     ]
    }
   ],
   "source": [
    "# Parent Class:\n",
    "\n",
    "dog = Dog('Puppy')\n",
    "dog.speak()"
   ]
  },
  {
   "cell_type": "markdown",
   "id": "a1d11c3e-2669-4410-b422-3f3b19b5fd94",
   "metadata": {},
   "source": [
    "## Extending built-in Classes:"
   ]
  },
  {
   "cell_type": "code",
   "execution_count": null,
   "id": "479b9890-40ac-449c-b5bd-f6ea024e6957",
   "metadata": {},
   "outputs": [],
   "source": []
  }
 ],
 "metadata": {
  "kernelspec": {
   "display_name": "Python 3 (ipykernel)",
   "language": "python",
   "name": "python3"
  },
  "language_info": {
   "codemirror_mode": {
    "name": "ipython",
    "version": 3
   },
   "file_extension": ".py",
   "mimetype": "text/x-python",
   "name": "python",
   "nbconvert_exporter": "python",
   "pygments_lexer": "ipython3",
   "version": "3.11.5"
  }
 },
 "nbformat": 4,
 "nbformat_minor": 5
}
