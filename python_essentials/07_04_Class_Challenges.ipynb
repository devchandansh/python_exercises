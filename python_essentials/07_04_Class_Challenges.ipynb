{
 "cells": [
  {
   "cell_type": "markdown",
   "id": "88a1927c-28e0-47d5-b35c-e0b2b5db3fdb",
   "metadata": {},
   "source": [
    "## Extending the Messenger\n",
    "### Create a class \"SaveMessages\" that extends the Messenger class that does the following things:\n",
    "\n",
    "* Add any messages it receives to a list, along with the time the message was received\n",
    "* Use the provided \"getCurrentTime\" function so that the received message time is a string\n",
    "* Contains a method called \"printMessages\" that prints all collected messages when it's called.\n",
    "\n",
    "You might also consider clearing the message list when \"printMessages\" is called.\n"
   ]
  },
  {
   "cell_type": "code",
   "execution_count": null,
   "id": "3f0239b7-337e-45ec-b44c-8661e3744b2f",
   "metadata": {},
   "outputs": [],
   "source": [
    "from datetime import datetime\n",
    "\n",
    "def getCurrentTime():\n",
    "    return datetime.now().strftime(\"%m-%d-%Y %H:%M:%S\")\n",
    "\n",
    "\n",
    "class Messenger:\n",
    "    def __init__(self, listeners=[]):\n",
    "        self.listeners = listeners\n",
    "    \n",
    "    def send(self, message):\n",
    "        for listener in self.listeners:\n",
    "            listener.receive(message)\n",
    "\n",
    "    def receive(self, message):\n",
    "        # Must be implemented by extending classes\n",
    "        pass\n",
    "\n",
    "\n",
    "class SaveMessages(Messenger):\n",
    "    # Your code here!\n",
    "    pass"
   ]
  },
  {
   "cell_type": "code",
   "execution_count": null,
   "id": "ebcf73f3-3f6b-42b6-b2c3-9f5502a1142a",
   "metadata": {},
   "outputs": [],
   "source": [
    "# Run this cell after you've written your solution\n",
    "listener = SaveMessages()\n",
    "\n",
    "sender = Messenger([listener])\n",
    "\n",
    "sender.send('Hello, there! This is the first message')"
   ]
  },
  {
   "cell_type": "code",
   "execution_count": null,
   "id": "68754be8-8348-47bd-aba9-3afee3495f1d",
   "metadata": {},
   "outputs": [],
   "source": [
    "# Run this cell after you've written your solution\n",
    "sender.send('Oh hi! This is the second message!')"
   ]
  },
  {
   "cell_type": "code",
   "execution_count": null,
   "id": "49b93706-1922-4987-945b-28faa1e7e310",
   "metadata": {},
   "outputs": [],
   "source": [
    "# Run this cell after you've written your solution\n",
    "sender.send('Hola! This is the third and final message!')\n",
    "\n",
    "listener.printMessages()"
   ]
  },
  {
   "cell_type": "code",
   "execution_count": null,
   "id": "86cbd8be-632a-457b-87a1-f37120050e4d",
   "metadata": {},
   "outputs": [],
   "source": []
  }
 ],
 "metadata": {
  "kernelspec": {
   "display_name": "Python 3 (ipykernel)",
   "language": "python",
   "name": "python3"
  },
  "language_info": {
   "codemirror_mode": {
    "name": "ipython",
    "version": 3
   },
   "file_extension": ".py",
   "mimetype": "text/x-python",
   "name": "python",
   "nbconvert_exporter": "python",
   "pygments_lexer": "ipython3",
   "version": "3.11.5"
  }
 },
 "nbformat": 4,
 "nbformat_minor": 5
}
