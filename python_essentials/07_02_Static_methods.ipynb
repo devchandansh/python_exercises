{
 "cells": [
  {
   "cell_type": "markdown",
   "id": "086d8f96-5060-4b01-bd87-6154ea4a5651",
   "metadata": {},
   "source": [
    "# Class | Static and Instance Methods"
   ]
  },
  {
   "cell_type": "markdown",
   "id": "4ac2cc31-b4bc-4c55-9fdf-ad69d01b9100",
   "metadata": {},
   "source": [
    "## Instance Methods:"
   ]
  },
  {
   "cell_type": "code",
   "execution_count": null,
   "id": "c01fbdf8-e255-4133-80f9-2358c8e436ef",
   "metadata": {},
   "outputs": [],
   "source": []
  },
  {
   "cell_type": "markdown",
   "id": "d5ce84f3-3c6e-4f88-a7a9-1f2facd8c51a",
   "metadata": {},
   "source": [
    "## Static Methods:"
   ]
  },
  {
   "cell_type": "markdown",
   "id": "ab0ae91c-cde2-48ab-b3bf-2fa8f6bce36c",
   "metadata": {},
   "source": [
    "* Static method doesn't have a mandatory argument like: reference to the object − 'self' or reference to the class − 'cls'.\n",
    "* Static method can be called by its object or reference of class itself."
   ]
  },
  {
   "cell_type": "code",
   "execution_count": 8,
   "id": "a1f412bd-d3b9-4381-862d-19647de66c9b",
   "metadata": {},
   "outputs": [
    {
     "name": "stdout",
     "output_type": "stream",
     "text": [
      "{'is', 'im', 'to', 'hi,', 'the', 'sentance', 'sentence', 'chandan', 'anothere', 'add', 'want', 'i', 'here'}\n"
     ]
    }
   ],
   "source": [
    "# Example-1:\n",
    "\n",
    "class WordSet:\n",
    "    def __init__(self):\n",
    "        self.words = set()\n",
    "\n",
    "    def addText(self, text):\n",
    "        text = self.cleanText(text)\n",
    "        for word in text.split():\n",
    "            self.words.add(word)\n",
    "\n",
    "    def cleanText(self, text):\n",
    "        # Chaining Functions\n",
    "        text = text.replace('!', '').replace('.','').replace('\\'','')\n",
    "        return text.lower()\n",
    "\n",
    "\n",
    "\n",
    "wordSet = WordSet()\n",
    "\n",
    "wordSet.addText('Hi, I\\'m Chandan! Here is the sentance I want to add!')\n",
    "wordSet.addText('Here is the anothere sentence.')\n",
    "\n",
    "print(wordSet.words)"
   ]
  },
  {
   "cell_type": "markdown",
   "id": "b40805db-3e9c-45e9-82fd-45f2d18fdf36",
   "metadata": {},
   "source": [
    "- WordSet class below, a method 'cleanText' is converted into a static method."
   ]
  },
  {
   "cell_type": "code",
   "execution_count": 15,
   "id": "0fbb7490-bc91-4cf5-80b2-a2d0db78b5b9",
   "metadata": {},
   "outputs": [
    {
     "name": "stdout",
     "output_type": "stream",
     "text": [
      "{'is', 'im', 'to', 'hi,', 'the', 'sentance', 'sentence', 'chandan', 'anothere', 'add', 'want', 'i', 'here'}\n"
     ]
    }
   ],
   "source": [
    "# Example-2:\n",
    "\n",
    "class WordSet:\n",
    "    def __init__(self):\n",
    "        self.words = set()\n",
    "\n",
    "    def addText(self, text):\n",
    "        text = WordSet.cleanText(text)\n",
    "        for word in text.split():\n",
    "            self.words.add(word)\n",
    "\n",
    "    \n",
    "    '''\n",
    "    Removed the self param form he function\n",
    "    '''\n",
    "    def cleanText(text):\n",
    "        # Chaining Functions\n",
    "        text = text.replace('!', '').replace('.','').replace('\\'','')\n",
    "        return text.lower()\n",
    "\n",
    "\n",
    "\n",
    "wordSet = WordSet()\n",
    "\n",
    "wordSet.addText('Hi, I\\'m Chandan! Here is the sentance I want to add!')\n",
    "wordSet.addText('Here is the anothere sentence.')\n",
    "\n",
    "print(wordSet.words)"
   ]
  },
  {
   "cell_type": "markdown",
   "id": "99515b35-e956-4e33-bb17-0174e000e787",
   "metadata": {},
   "source": [
    "## Decorators:"
   ]
  },
  {
   "cell_type": "markdown",
   "id": "7326f896-0d74-4e7d-9533-a053aeab5bcf",
   "metadata": {},
   "source": [
    "- WordSet class below, a method 'cleanText' is converted into a static method.\n",
    "- @staticmethod decorator, returns a static method"
   ]
  },
  {
   "cell_type": "code",
   "execution_count": 16,
   "id": "7a230019-22c4-436c-92ce-ad80cf08a957",
   "metadata": {},
   "outputs": [
    {
     "name": "stdout",
     "output_type": "stream",
     "text": [
      "<class '__main__.WordSet'>\n",
      "{'is', 'im', 'to', 'hi,', 'the', 'sentance', 'sentence', 'chandan', 'anothere', 'add', 'want', 'i', 'here'}\n"
     ]
    }
   ],
   "source": [
    "# Example-3: Using Decorators in Class\n",
    "\n",
    "class WordSet:\n",
    "    def __init__(self):\n",
    "        self.words = set()\n",
    "\n",
    "    def addText(self, text):\n",
    "        # we can call the static methods with self\n",
    "        text = self.cleanText(text)\n",
    "        for word in text.split():\n",
    "            self.words.add(word)\n",
    "\n",
    "    \n",
    "    '''\n",
    "    Removed the self param form he function.\n",
    "    '''\n",
    "    @staticmethod\n",
    "    def cleanText(text):\n",
    "        # Chaining Functions\n",
    "        text = text.replace('!', '').replace('.','').replace('\\'','')\n",
    "        return text.lower()\n",
    "\n",
    "\n",
    "    def getclass(self):\n",
    "        return self.__class__\n",
    "        \n",
    "wordSet = WordSet()\n",
    "\n",
    "wordSet.addText('Hi, I\\'m Chandan! Here is the sentance I want to add!')\n",
    "wordSet.addText('Here is the anothere sentence.')\n",
    "print(wordSet.getclass())\n",
    "print(wordSet.words)"
   ]
  },
  {
   "cell_type": "code",
   "execution_count": null,
   "id": "03a9bad8-26cd-4122-9053-d4160405bf9c",
   "metadata": {},
   "outputs": [],
   "source": []
  },
  {
   "cell_type": "markdown",
   "id": "0874809d-8409-4aa4-86aa-7ef120d42ceb",
   "metadata": {},
   "source": [
    "### Example: Instant Method, Class Method, Static method"
   ]
  },
  {
   "cell_type": "code",
   "execution_count": 24,
   "id": "670e7731-fcac-4579-bfba-95e198a1a289",
   "metadata": {},
   "outputs": [],
   "source": [
    "# Example:\n",
    "\n",
    "class MyClass:\n",
    "    def method(self):\n",
    "        return 'instance method called', self\n",
    "\n",
    "    @classmethod\n",
    "    def classmethod(cls):\n",
    "        return 'class method called', cls\n",
    "\n",
    "    @staticmethod\n",
    "    def staticmethod():\n",
    "        return 'static method called'\n",
    "\n",
    "\n"
   ]
  },
  {
   "cell_type": "code",
   "execution_count": 25,
   "id": "b9a29369-78af-4d21-bcb4-27485cf97803",
   "metadata": {},
   "outputs": [],
   "source": [
    "obj = MyClass()"
   ]
  },
  {
   "cell_type": "code",
   "execution_count": 26,
   "id": "2747a728-4354-4f09-9f67-93e5cc9bc19f",
   "metadata": {},
   "outputs": [
    {
     "data": {
      "text/plain": [
       "('instance method called', <__main__.MyClass at 0x1f95438d910>)"
      ]
     },
     "execution_count": 26,
     "metadata": {},
     "output_type": "execute_result"
    }
   ],
   "source": [
    "# Instance method called\n",
    "obj.method()"
   ]
  },
  {
   "cell_type": "code",
   "execution_count": 27,
   "id": "935e99a1-013c-4fc6-b9eb-adb943364ba9",
   "metadata": {},
   "outputs": [
    {
     "data": {
      "text/plain": [
       "('class method called', __main__.MyClass)"
      ]
     },
     "execution_count": 27,
     "metadata": {},
     "output_type": "execute_result"
    }
   ],
   "source": [
    "# Class method called\n",
    "obj.classmethod()"
   ]
  },
  {
   "cell_type": "code",
   "execution_count": 28,
   "id": "a0dcb6d3-d05d-46d2-9442-303bdfbf4958",
   "metadata": {},
   "outputs": [
    {
     "data": {
      "text/plain": [
       "'static method called'"
      ]
     },
     "execution_count": 28,
     "metadata": {},
     "output_type": "execute_result"
    }
   ],
   "source": [
    "# Static method called\n",
    "obj.staticmethod()"
   ]
  },
  {
   "cell_type": "code",
   "execution_count": null,
   "id": "b3c8085b-22e0-46c8-876b-9ac50f4af55a",
   "metadata": {},
   "outputs": [],
   "source": []
  },
  {
   "cell_type": "code",
   "execution_count": null,
   "id": "b8b16dd3-fa67-4036-8ba6-76062cc16695",
   "metadata": {},
   "outputs": [],
   "source": []
  }
 ],
 "metadata": {
  "kernelspec": {
   "display_name": "Python 3 (ipykernel)",
   "language": "python",
   "name": "python3"
  },
  "language_info": {
   "codemirror_mode": {
    "name": "ipython",
    "version": 3
   },
   "file_extension": ".py",
   "mimetype": "text/x-python",
   "name": "python",
   "nbconvert_exporter": "python",
   "pygments_lexer": "ipython3",
   "version": "3.11.5"
  }
 },
 "nbformat": 4,
 "nbformat_minor": 5
}
