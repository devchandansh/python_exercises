{
 "cells": [
  {
   "cell_type": "markdown",
   "id": "79b4e42e-ebf5-47a7-b5b7-208ca9a41435",
   "metadata": {},
   "source": [
    "# Errors and Exceptions:"
   ]
  },
  {
   "cell_type": "code",
   "execution_count": null,
   "id": "3a6ec8b5-1445-4d91-9605-6e644be22b45",
   "metadata": {},
   "outputs": [],
   "source": []
  }
 ],
 "metadata": {
  "kernelspec": {
   "display_name": "Python 3 (ipykernel)",
   "language": "python",
   "name": "python3"
  },
  "language_info": {
   "codemirror_mode": {
    "name": "ipython",
    "version": 3
   },
   "file_extension": ".py",
   "mimetype": "text/x-python",
   "name": "python",
   "nbconvert_exporter": "python",
   "pygments_lexer": "ipython3",
   "version": "3.11.5"
  }
 },
 "nbformat": 4,
 "nbformat_minor": 5
}
