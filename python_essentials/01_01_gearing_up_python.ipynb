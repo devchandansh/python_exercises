{
 "cells": [
  {
   "cell_type": "markdown",
   "id": "3351c5f5-3c67-44d0-bd32-1afa51626983",
   "metadata": {},
   "source": [
    "## Gearing Up For Python"
   ]
  },
  {
   "cell_type": "markdown",
   "id": "6d83333c-8dd6-4044-b2be-b76a91b84ff7",
   "metadata": {},
   "source": [
    "## Logical Operators:"
   ]
  },
  {
   "cell_type": "markdown",
   "id": "350cbfd8-f0da-4562-8055-7fb4b1da2a94",
   "metadata": {},
   "source": [
    "### Boolean:"
   ]
  },
  {
   "cell_type": "code",
   "execution_count": null,
   "id": "f1620b26-6d04-43cc-a253-c38165530975",
   "metadata": {},
   "outputs": [],
   "source": [
    "# AND\n",
    "\n",
    "# true and true -> true\n",
    "# false and true -> false\n",
    "# true and false -> false\n",
    "# false and false -> false"
   ]
  },
  {
   "cell_type": "code",
   "execution_count": 5,
   "id": "7d79fdb9-80bb-4277-850e-3dc21956b708",
   "metadata": {},
   "outputs": [],
   "source": [
    "# OR\n",
    "\n",
    "# true and true -> true\n",
    "# false and true -> true\n",
    "# true and false -> true\n",
    "# false and false -> false"
   ]
  },
  {
   "cell_type": "code",
   "execution_count": 3,
   "id": "cfaea19a-4176-44ed-a251-594a671b93d7",
   "metadata": {},
   "outputs": [],
   "source": [
    "# NOT\n",
    "\n",
    "# true -> false\n",
    "# false -> true"
   ]
  },
  {
   "cell_type": "code",
   "execution_count": null,
   "id": "dd24480e-ace5-4d5a-aba2-d7beb84ae23f",
   "metadata": {},
   "outputs": [],
   "source": []
  },
  {
   "cell_type": "code",
   "execution_count": null,
   "id": "2e6dc784-3ddc-4d7a-8dd1-44443745cb99",
   "metadata": {},
   "outputs": [],
   "source": []
  }
 ],
 "metadata": {
  "kernelspec": {
   "display_name": "Python 3 (ipykernel)",
   "language": "python",
   "name": "python3"
  },
  "language_info": {
   "codemirror_mode": {
    "name": "ipython",
    "version": 3
   },
   "file_extension": ".py",
   "mimetype": "text/x-python",
   "name": "python",
   "nbconvert_exporter": "python",
   "pygments_lexer": "ipython3",
   "version": "3.11.5"
  }
 },
 "nbformat": 4,
 "nbformat_minor": 5
}
