{
 "cells": [
  {
   "cell_type": "markdown",
   "id": "37a73c16-f91c-4bd2-be6e-188b49a30956",
   "metadata": {},
   "source": [
    "# Quick Start Python"
   ]
  },
  {
   "cell_type": "code",
   "execution_count": null,
   "id": "4abbcc02-5788-41bc-ae09-d787e487cdac",
   "metadata": {},
   "outputs": [],
   "source": []
  }
 ],
 "metadata": {
  "kernelspec": {
   "display_name": "Python 3 (ipykernel)",
   "language": "python",
   "name": "python3"
  },
  "language_info": {
   "codemirror_mode": {
    "name": "ipython",
    "version": 3
   },
   "file_extension": ".py",
   "mimetype": "text/x-python",
   "name": "python",
   "nbconvert_exporter": "python",
   "pygments_lexer": "ipython3",
   "version": "3.11.5"
  }
 },
 "nbformat": 4,
 "nbformat_minor": 5
}
