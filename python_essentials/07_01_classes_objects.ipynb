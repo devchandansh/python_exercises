{
 "cells": [
  {
   "cell_type": "markdown",
   "id": "67974900-0145-451d-accc-b246e737329f",
   "metadata": {},
   "source": [
    "# Classes and Objects:"
   ]
  },
  {
   "cell_type": "markdown",
   "id": "4b889249-765c-4579-86be-87c8573eb4e4",
   "metadata": {},
   "source": [
    "# Class:"
   ]
  },
  {
   "cell_type": "markdown",
   "id": "a3fe1f98-a9b0-46b0-8336-d46756d85311",
   "metadata": {},
   "source": [
    "## Static Attributes:"
   ]
  },
  {
   "cell_type": "code",
   "execution_count": 13,
   "id": "a92abcae-6d25-40a6-9ebc-9a858ad280ce",
   "metadata": {},
   "outputs": [],
   "source": [
    "class Dog:\n",
    "    def __init__(self, name):\n",
    "        self.name = name\n",
    "        self.legs = 4\n",
    "    # def count_now(self):\n",
    "    #     return self.count_attr()"
   ]
  },
  {
   "cell_type": "code",
   "execution_count": 20,
   "id": "a0e8d7dc-47fd-43e3-b104-836f1a3c8d3e",
   "metadata": {},
   "outputs": [],
   "source": [
    "obj = Dog('Tozo')\n"
   ]
  },
  {
   "cell_type": "markdown",
   "id": "d920be9e-56fb-40b8-939d-13f8026e6602",
   "metadata": {},
   "source": [
    "### Attributes in a class:"
   ]
  },
  {
   "cell_type": "code",
   "execution_count": 17,
   "id": "bcb82c21-a1c9-4d0e-b950-14518848317a",
   "metadata": {},
   "outputs": [
    {
     "data": {
      "text/plain": [
       "{'name': 'Tozo', 'legs': 4}"
      ]
     },
     "execution_count": 17,
     "metadata": {},
     "output_type": "execute_result"
    }
   ],
   "source": [
    "# Attributes in a class\n",
    "\n",
    "obj.__dict__"
   ]
  },
  {
   "cell_type": "code",
   "execution_count": 19,
   "id": "6500c1f9-66fc-49b2-9c30-f44fc9a48342",
   "metadata": {},
   "outputs": [
    {
     "name": "stdout",
     "output_type": "stream",
     "text": [
      "2\n"
     ]
    }
   ],
   "source": [
    "# Count the Attributes in a class\n",
    "\n",
    "no_of_attr = len(obj.__dict__)\n",
    "print(no_of_attr)"
   ]
  },
  {
   "cell_type": "code",
   "execution_count": null,
   "id": "c0b5722d-206e-4e76-8521-7d1c9999cc40",
   "metadata": {},
   "outputs": [],
   "source": []
  }
 ],
 "metadata": {
  "kernelspec": {
   "display_name": "Python 3 (ipykernel)",
   "language": "python",
   "name": "python3"
  },
  "language_info": {
   "codemirror_mode": {
    "name": "ipython",
    "version": 3
   },
   "file_extension": ".py",
   "mimetype": "text/x-python",
   "name": "python",
   "nbconvert_exporter": "python",
   "pygments_lexer": "ipython3",
   "version": "3.11.5"
  }
 },
 "nbformat": 4,
 "nbformat_minor": 5
}
