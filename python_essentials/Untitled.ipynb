{
 "cells": [
  {
   "cell_type": "markdown",
   "id": "20238fef-a18b-4d9f-9d36-6a8279736fca",
   "metadata": {},
   "source": [
    "1. Why is the self variable used inside a class?\n",
    "\n",
    "   Solution: \n",
    "   It's the coventional variable name to refer to the class instance."
   ]
  },
  {
   "cell_type": "markdown",
   "id": "dfa04ecc-923c-4974-bf53-84380def1c1b",
   "metadata": {},
   "source": [
    "2. What is super() used for inside a class?\n",
    "\n",
    "   Solution:\n",
    "   To get an instance of the parent class"
   ]
  },
  {
   "cell_type": "markdown",
   "id": "51ef6b1d-6a20-4ed1-9bb7-9e9b8efcd703",
   "metadata": {},
   "source": [
    "3. Assuming that\n",
    "   rover is an instance of the Dog class, what is an equivalent of this line of code?\n",
    "\n",
    "   rover.speak()"
   ]
  },
  {
   "cell_type": "code",
   "execution_count": 2,
   "id": "6084c0f9-d725-4aa5-90cb-a1ed871f7a84",
   "metadata": {},
   "outputs": [],
   "source": [
    "# Dog.speak(rover)"
   ]
  },
  {
   "cell_type": "markdown",
   "id": "9e313463-d309-4438-b11b-a1de6f7e7d59",
   "metadata": {},
   "source": [
    "##### What is not a method of handling missing keys in a dictionary?"
   ]
  },
  {
   "cell_type": "markdown",
   "id": "ffe94c2b-b090-4305-a4c1-8dcf96ad1709",
   "metadata": {},
   "source": [
    "using the defaultval function"
   ]
  },
  {
   "cell_type": "markdown",
   "id": "cd9f7e3a-8390-4f79-9144-d7eaa925c5bf",
   "metadata": {},
   "source": [
    "##### You are given these data structure values:\n",
    "\n",
    "values = ```[[1, 'i', 'a'], ['2', 'we', 'be', 'it'], [3, 'are', 'few', 'too']]```\n",
    "\n",
    "Then, you are asked to produce this structure:\n",
    "```\n",
    "{\r\n",
    "        1: ['i', 'a'],\r\n",
    "        2: ['we', 'be', 'it'],\r\n",
    "        3: ['are', 'few', 'too'\n",
    "```\n",
    "]\r\n",
    "}"
   ]
  },
  {
   "cell_type": "code",
   "execution_count": 1,
   "id": "398ecddf-386a-4e5c-9f2b-257f01b9556f",
   "metadata": {},
   "outputs": [
    {
     "name": "stdout",
     "output_type": "stream",
     "text": [
      "{1: ['i', 'a'], '2': ['we', 'be', 'it'], 3: ['are', 'few', 'too']}\n"
     ]
    }
   ],
   "source": [
    "# Solution:\n",
    "\n",
    "values = [[1, 'i', 'a'], ['2', 'we', 'be', 'it'], [3, 'are', 'few', 'too']]\n",
    "\n",
    "new_value = {item[0]: item[1:] for item in values}\n",
    "\n",
    "print(new_value)"
   ]
  },
  {
   "cell_type": "markdown",
   "id": "719cc993-f238-4ffd-8120-fd07b7091df5",
   "metadata": {},
   "source": [
    "##### How would you write a nested list comprehension to apply a function someFunc to all comments in a list of blog objects?"
   ]
  },
  {
   "cell_type": "code",
   "execution_count": 3,
   "id": "f17098ae-bcc3-4425-8bff-4f3de2d53bfc",
   "metadata": {},
   "outputs": [],
   "source": [
    "# Solution:\n",
    "# [[someFunc(comment) for comment in blog.comments] for blog in blogs]"
   ]
  },
  {
   "cell_type": "markdown",
   "id": "ff209047-eb00-46e7-8478-a9b000289abf",
   "metadata": {},
   "source": [
    "##### Which option lists the numbers 100 to 0, backwards, by increments of 5? ([100, 95, 90,..., 0])"
   ]
  },
  {
   "cell_type": "code",
   "execution_count": 4,
   "id": "1251a061-99ec-47fd-8f59-7c873dc3f3fb",
   "metadata": {},
   "outputs": [],
   "source": [
    "# Solution:\n",
    "\n",
    "# list(range(101))[::-5]"
   ]
  },
  {
   "cell_type": "markdown",
   "id": "47cc1499-b81f-4c01-b8e7-ac5d6ef7d434",
   "metadata": {},
   "source": [
    "##### If the current number of seconds is 59 seconds, how long will this program run?"
   ]
  },
  {
   "cell_type": "markdown",
   "id": "1ac5f8b9-8c16-4bf9-8e50-3619f6a5da67",
   "metadata": {},
   "source": [
    "\n",
    "wait_until = datetime.now().second + 2\n",
    "while datetime.now().second != wait_until:\n",
    "    print('Still waiting!')\n",
    "\n",
    "print(f'We are at {wait_until} seconds!')\n"
   ]
  },
  {
   "cell_type": "markdown",
   "id": "a117921f-96b7-4de0-913c-d846f5f71081",
   "metadata": {},
   "source": [
    "Answer: It will not stop."
   ]
  },
  {
   "cell_type": "markdown",
   "id": "35df4c17-61ae-47d7-b85d-d58d1c2793e8",
   "metadata": {},
   "source": [
    "##### What list does this statement generate?"
   ]
  },
  {
   "cell_type": "code",
   "execution_count": 8,
   "id": "a594c891-bf99-4871-b39a-4c2b015a91b3",
   "metadata": {},
   "outputs": [
    {
     "data": {
      "text/plain": [
       "[1, 'Monty', 'Python', 'Monty', 5, 'Monty Python', 7, 'Monty', 'Python']"
      ]
     },
     "execution_count": 8,
     "metadata": {},
     "output_type": "execute_result"
    }
   ],
   "source": [
    "['Monty Python' if n % 6 == 0 else 'Python' if n % 3 == 0 else 'Monty' if n % 2 == 0 else n for n in range(1, 10)]"
   ]
  },
  {
   "cell_type": "markdown",
   "id": "0dabfdba-3d16-408f-b7b8-1e2606e34df8",
   "metadata": {},
   "source": [
    "##### Will the print statement be reached in this code?"
   ]
  },
  {
   "cell_type": "code",
   "execution_count": 9,
   "id": "b90a3c2d-3daa-40c0-a5ce-af580b1d1b9e",
   "metadata": {},
   "outputs": [
    {
     "name": "stdout",
     "output_type": "stream",
     "text": [
      "Let's print something out!\n"
     ]
    }
   ],
   "source": [
    "for number in range(1, 9):\n",
    "    if number % 10 == 0:\n",
    "        break\n",
    "else:\n",
    "    print('Let\\'s print something out!')"
   ]
  },
  {
   "cell_type": "markdown",
   "id": "035a3ea5-4ab9-4ce0-8463-3a6b55469af3",
   "metadata": {},
   "source": [
    "##### Will the print statement be reached in this code?"
   ]
  },
  {
   "cell_type": "code",
   "execution_count": 10,
   "id": "c1984de9-7984-43fe-af04-baba7dca50b2",
   "metadata": {},
   "outputs": [],
   "source": [
    "for number in range(1, 100):\n",
    "    if number % 10 == 0:\n",
    "        break\n",
    "else:\n",
    "    print('Let\\'s print something out!')"
   ]
  },
  {
   "cell_type": "markdown",
   "id": "abc404c4-5cb5-4f6d-9bf5-dac621fb86c4",
   "metadata": {},
   "source": [
    "Answer: No"
   ]
  },
  {
   "cell_type": "code",
   "execution_count": null,
   "id": "5a4777b4-35e7-461e-8c85-7419e546f204",
   "metadata": {},
   "outputs": [],
   "source": []
  }
 ],
 "metadata": {
  "kernelspec": {
   "display_name": "Python 3 (ipykernel)",
   "language": "python",
   "name": "python3"
  },
  "language_info": {
   "codemirror_mode": {
    "name": "ipython",
    "version": 3
   },
   "file_extension": ".py",
   "mimetype": "text/x-python",
   "name": "python",
   "nbconvert_exporter": "python",
   "pygments_lexer": "ipython3",
   "version": "3.11.5"
  }
 },
 "nbformat": 4,
 "nbformat_minor": 5
}
