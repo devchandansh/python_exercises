{
 "cells": [
  {
   "cell_type": "markdown",
   "id": "ae175cc4-d1d5-4ca4-96aa-ba2917dabf82",
   "metadata": {},
   "source": [
    "## Solution:"
   ]
  },
  {
   "cell_type": "code",
   "execution_count": 19,
   "id": "63e32cde-eeec-4bbb-a2c1-867bfb589303",
   "metadata": {},
   "outputs": [],
   "source": [
    "from datetime import datetime\n",
    "\n",
    "def getCurrentTime():\n",
    "    return datetime.now().strftime(\"%m-%d-%Y %H:%M:%S\")\n",
    "\n",
    "\n",
    "class Messenger:\n",
    "    def __init__(self, listeners=[]):\n",
    "        self.listeners = listeners\n",
    "    \n",
    "    def send(self, message):\n",
    "        for listener in self.listeners:\n",
    "            listener.receive(message)\n",
    "\n",
    "    def receive(self, message):\n",
    "        # Must be implemented by extending classes\n",
    "        pass\n",
    "\n",
    "\n",
    "class SaveMessages(Messenger):\n",
    "    # Your code here!\n",
    "\n",
    "    def __init__(self, listeners=[]):\n",
    "        super().__init__(listeners)\n",
    "        self.messages = []\n",
    "    \n",
    "    def receive(self, message):\n",
    "        self.messages.append({'message': message, 'time': getCurrentTime()})\n",
    "\n",
    "    def printMessages(self):\n",
    "        for m in self.messages:\n",
    "            print(f'Message: \"{m[\"message\"]}\" Time:\"{m[\"time\"]}\"')\n",
    "        self.messages = []\n",
    "\n"
   ]
  },
  {
   "cell_type": "code",
   "execution_count": 20,
   "id": "11a67897-81e3-4fad-8c79-36a642630a94",
   "metadata": {},
   "outputs": [],
   "source": [
    "# Run this cell after you've written your solution\n",
    "listener = SaveMessages()\n",
    "\n",
    "sender = Messenger([listener])\n",
    "\n",
    "sender.send('Hello, there! This is the first message')"
   ]
  },
  {
   "cell_type": "code",
   "execution_count": 21,
   "id": "88fc1675-f71e-4529-9632-540b2bf3feef",
   "metadata": {},
   "outputs": [],
   "source": [
    "# Run this cell after you've written your solution\n",
    "sender.send('Oh hi! This is the second message!')"
   ]
  },
  {
   "cell_type": "code",
   "execution_count": 22,
   "id": "c1358685-e676-4b7a-8932-d10e10c87c6c",
   "metadata": {},
   "outputs": [],
   "source": [
    "# Run this cell after you've written your solution\n",
    "sender.send('Hola! This is the third and final message!')"
   ]
  },
  {
   "cell_type": "code",
   "execution_count": 23,
   "id": "05353ab5-e396-4399-a647-2f921895b2a5",
   "metadata": {},
   "outputs": [
    {
     "name": "stdout",
     "output_type": "stream",
     "text": [
      "Message: \"Hello, there! This is the first message\" Time:\"01-27-2024 17:55:22\"\n",
      "Message: \"Oh hi! This is the second message!\" Time:\"01-27-2024 17:55:23\"\n",
      "Message: \"Hola! This is the third and final message!\" Time:\"01-27-2024 17:55:23\"\n"
     ]
    }
   ],
   "source": [
    "listener.printMessages()"
   ]
  },
  {
   "cell_type": "code",
   "execution_count": null,
   "id": "34659746-5e14-4f44-8a88-131dd12d5752",
   "metadata": {},
   "outputs": [],
   "source": []
  }
 ],
 "metadata": {
  "kernelspec": {
   "display_name": "Python 3 (ipykernel)",
   "language": "python",
   "name": "python3"
  },
  "language_info": {
   "codemirror_mode": {
    "name": "ipython",
    "version": 3
   },
   "file_extension": ".py",
   "mimetype": "text/x-python",
   "name": "python",
   "nbconvert_exporter": "python",
   "pygments_lexer": "ipython3",
   "version": "3.11.5"
  }
 },
 "nbformat": 4,
 "nbformat_minor": 5
}
