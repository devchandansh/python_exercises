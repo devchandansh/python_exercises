{
 "cells": [
  {
   "cell_type": "markdown",
   "id": "24d83b7a-6973-415e-ad05-f77c16af8dc7",
   "metadata": {},
   "source": [
    "### 1. Write a python programme to get the prime factors of a number."
   ]
  },
  {
   "cell_type": "code",
   "execution_count": 1,
   "id": "a5008d30-6a83-479c-8bde-5421b1811f52",
   "metadata": {},
   "outputs": [],
   "source": [
    "# input: integer value\n",
    "\n",
    "def get_prime_factors(number)->list:\n",
    "    factors = []\n",
    "    divisor = 2\n",
    "    while divisor <= number:\n",
    "        if number % divisor == 0:\n",
    "            factors.append(divisor)\n",
    "            number = number //divisor\n",
    "        else:\n",
    "            divisor +=1\n",
    "    return factors\n"
   ]
  },
  {
   "cell_type": "code",
   "execution_count": 2,
   "id": "307dde34-2db5-46ff-97b9-00065a2eb348",
   "metadata": {},
   "outputs": [
    {
     "name": "stdout",
     "output_type": "stream",
     "text": [
      "[2, 3, 5]\n"
     ]
    }
   ],
   "source": [
    "#  Factors of 630:\n",
    "\n",
    "factors1 = get_prime_factors(30)\n",
    "print(factors1)"
   ]
  },
  {
   "cell_type": "code",
   "execution_count": 4,
   "id": "1c14c942-368d-4a1f-a698-dc90d2958238",
   "metadata": {},
   "outputs": [
    {
     "name": "stdout",
     "output_type": "stream",
     "text": [
      "[2, 3, 3, 5, 7]\n"
     ]
    }
   ],
   "source": [
    "#  Factors of 630:\n",
    "\n",
    "factors2 = get_prime_factors(630)\n",
    "print(factors2)"
   ]
  },
  {
   "cell_type": "code",
   "execution_count": 5,
   "id": "a7da288a-cc46-4ca6-8dbe-4b4777673eae",
   "metadata": {},
   "outputs": [
    {
     "name": "stdout",
     "output_type": "stream",
     "text": [
      "[13]\n"
     ]
    }
   ],
   "source": [
    "factors = get_prime_factors(13)\n",
    "print(factors)"
   ]
  },
  {
   "cell_type": "code",
   "execution_count": null,
   "id": "202efd39-adc6-46a3-afe8-a54d850f42e3",
   "metadata": {},
   "outputs": [],
   "source": []
  }
 ],
 "metadata": {
  "kernelspec": {
   "display_name": "Python 3 (ipykernel)",
   "language": "python",
   "name": "python3"
  },
  "language_info": {
   "codemirror_mode": {
    "name": "ipython",
    "version": 3
   },
   "file_extension": ".py",
   "mimetype": "text/x-python",
   "name": "python",
   "nbconvert_exporter": "python",
   "pygments_lexer": "ipython3",
   "version": "3.11.5"
  }
 },
 "nbformat": 4,
 "nbformat_minor": 5
}
