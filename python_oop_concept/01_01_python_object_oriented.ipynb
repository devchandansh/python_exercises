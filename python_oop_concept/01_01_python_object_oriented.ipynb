{
 "cells": [
  {
   "cell_type": "markdown",
   "id": "75782ad3-84fc-41b2-94c9-1c467f32e149",
   "metadata": {},
   "source": [
    "# Python Object Oriented Programming:"
   ]
  },
  {
   "cell_type": "markdown",
   "id": "b3824588-6020-426b-8dc9-7b6118719a6e",
   "metadata": {},
   "source": [
    "##### Class: A Blueprint for creating objects of a particuler type\n",
    "##### Methods: Regular functions that are part of a class\n",
    "##### Attributes: Variable that hold data that are part of class.\n",
    "##### Inheritance: Means by which a class can inherit capabilities from another.\n",
    "##### Composition: Means of building complex objects out of other objects.\n"
   ]
  },
  {
   "cell_type": "code",
   "execution_count": null,
   "id": "2bdd44c6-669e-45a2-8e4c-100d78d44e4c",
   "metadata": {},
   "outputs": [],
   "source": []
  }
 ],
 "metadata": {
  "kernelspec": {
   "display_name": "Python 3 (ipykernel)",
   "language": "python",
   "name": "python3"
  },
  "language_info": {
   "codemirror_mode": {
    "name": "ipython",
    "version": 3
   },
   "file_extension": ".py",
   "mimetype": "text/x-python",
   "name": "python",
   "nbconvert_exporter": "python",
   "pygments_lexer": "ipython3",
   "version": "3.11.5"
  }
 },
 "nbformat": 4,
 "nbformat_minor": 5
}
