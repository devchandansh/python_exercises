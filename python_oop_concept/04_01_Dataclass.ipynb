{
 "cells": [
  {
   "cell_type": "markdown",
   "id": "bdabd46c-679b-4791-94fd-2ec58050af3f",
   "metadata": {},
   "source": [
    "## DataClass:"
   ]
  },
  {
   "cell_type": "code",
   "execution_count": 3,
   "id": "9f5a6bb5-1035-44f2-96fe-3e67f8ad9f14",
   "metadata": {},
   "outputs": [
    {
     "name": "stdout",
     "output_type": "stream",
     "text": [
      "Matrix Zone\n",
      "JD Salinger\n",
      "Book(title='Matrix Zone', author='Chandan Sharma', pages=500, price=120)\n",
      "True\n",
      "Anna Karenina, by Chandan Sharma\n"
     ]
    }
   ],
   "source": [
    "# Python Object Oriented Programming example\n",
    "# Using data classes to represent data objects\n",
    "\n",
    "from dataclasses import dataclass\n",
    "\n",
    "\n",
    "@dataclass\n",
    "class Book:\n",
    "    title: str\n",
    "    author: str\n",
    "    pages: int\n",
    "    price: float\n",
    "\n",
    "    # You can define methods in a dataclass like any other\n",
    "    def bookinfo(self):\n",
    "        return f\"{self.title}, by {self.author}\"\n",
    "\n",
    "\n",
    "# create some instances\n",
    "b1 = Book(\"Matrix Zone\", \"Chandan Sharma\", 500, 120)\n",
    "b2 = Book(\"The Catcher in the Rye\", \"JD Salinger\", 234, 29.95)\n",
    "\n",
    "# access fields\n",
    "print(b1.title)\n",
    "print(b2.author)\n",
    "\n",
    "# print the book itself - dataclasses provide a default\n",
    "# implementation of the __repr__ function\n",
    "print(b1)\n",
    "\n",
    "# comparing two dataclasses\n",
    "b3 = Book(\"Matrix Zone\", \"Chandan Sharma\", 500, 120)\n",
    "print(b1 == b3)\n",
    "\n",
    "# change some fields, call a regular class method\n",
    "b1.title = \"Anna Karenina\"\n",
    "b1.pages = 864\n",
    "print(b1.bookinfo())"
   ]
  },
  {
   "cell_type": "code",
   "execution_count": null,
   "id": "3a58fe7c-bf65-4f03-9770-38bccd32a9ca",
   "metadata": {},
   "outputs": [],
   "source": []
  }
 ],
 "metadata": {
  "kernelspec": {
   "display_name": "Python 3 (ipykernel)",
   "language": "python",
   "name": "python3"
  },
  "language_info": {
   "codemirror_mode": {
    "name": "ipython",
    "version": 3
   },
   "file_extension": ".py",
   "mimetype": "text/x-python",
   "name": "python",
   "nbconvert_exporter": "python",
   "pygments_lexer": "ipython3",
   "version": "3.11.5"
  }
 },
 "nbformat": 4,
 "nbformat_minor": 5
}
