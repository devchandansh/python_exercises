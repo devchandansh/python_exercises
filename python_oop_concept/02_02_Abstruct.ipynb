{
 "cells": [
  {
   "cell_type": "markdown",
   "id": "60db5b41-0764-4751-b6b4-a53d70493def",
   "metadata": {},
   "source": [
    "## Abstruct Base Class:"
   ]
  },
  {
   "cell_type": "markdown",
   "id": "a1b63a93-0996-4f91-aaca-38b502b4a141",
   "metadata": {},
   "source": [
    "### Example:"
   ]
  },
  {
   "cell_type": "code",
   "execution_count": 1,
   "id": "6c58d369-c37b-45cb-9dc4-8b0b3a700e1b",
   "metadata": {},
   "outputs": [
    {
     "name": "stdout",
     "output_type": "stream",
     "text": [
      "None\n",
      "None\n"
     ]
    }
   ],
   "source": [
    "# Python Object Oriented Programming example\n",
    "# Using Abstract Base Classes to enforce class constraints\n",
    "\n",
    "\n",
    "class GraphicShape:\n",
    "    def __init__(self):\n",
    "        super().__init__()\n",
    "\n",
    "    def calcArea(self):\n",
    "        pass\n",
    "\n",
    "\n",
    "class Circle(GraphicShape):\n",
    "    def __init__(self, radius):\n",
    "        self.radius = radius\n",
    "\n",
    "\n",
    "class Square(GraphicShape):\n",
    "    def __init__(self, side):\n",
    "        self.side = side\n",
    "\n",
    "\n",
    "g = GraphicShape()\n",
    "\n",
    "c = Circle(10)\n",
    "print(c.calcArea())\n",
    "s = Square(12)\n",
    "print(s.calcArea())"
   ]
  },
  {
   "cell_type": "markdown",
   "id": "357b118c-90b3-441f-b2dd-f0c12cda8876",
   "metadata": {},
   "source": [
    "### Each Shape be extended from Graphics Shape"
   ]
  },
  {
   "cell_type": "code",
   "execution_count": 5,
   "id": "6488d8ac-092d-4300-879d-8d3c31ba267c",
   "metadata": {},
   "outputs": [],
   "source": [
    "class GraphicShape:\n",
    "    def __init__(self):\n",
    "        super().__init__()\n",
    "\n",
    "\n",
    "\n",
    "class Circle(GraphicShape):\n",
    "    def __init__(self, radius):\n",
    "        self.radius = radius\n",
    "\n",
    "    def calcArea(self):\n",
    "        return 3.14 * (self.radius ** 2)\n",
    "\n",
    "\n",
    "class Square(GraphicShape):\n",
    "    def __init__(self, side):\n",
    "        self.side = side\n",
    "\n",
    "    def calcArea(self):\n",
    "        return self.side * self.side\n",
    "\n"
   ]
  },
  {
   "cell_type": "code",
   "execution_count": 7,
   "id": "783122c9-2190-48e0-8807-df1e8aca2e8a",
   "metadata": {},
   "outputs": [
    {
     "name": "stdout",
     "output_type": "stream",
     "text": [
      "314.0\n",
      "144\n"
     ]
    }
   ],
   "source": [
    "# Outputs:\n",
    "\n",
    "g = GraphicShape()\n",
    "\n",
    "c = Circle(10)\n",
    "print(c.calcArea())\n",
    "s = Square(12)\n",
    "print(s.calcArea())"
   ]
  },
  {
   "cell_type": "code",
   "execution_count": null,
   "id": "30b1834d-45a8-4133-959c-945525dfdbab",
   "metadata": {},
   "outputs": [],
   "source": []
  }
 ],
 "metadata": {
  "kernelspec": {
   "display_name": "Python 3 (ipykernel)",
   "language": "python",
   "name": "python3"
  },
  "language_info": {
   "codemirror_mode": {
    "name": "ipython",
    "version": 3
   },
   "file_extension": ".py",
   "mimetype": "text/x-python",
   "name": "python",
   "nbconvert_exporter": "python",
   "pygments_lexer": "ipython3",
   "version": "3.11.5"
  }
 },
 "nbformat": 4,
 "nbformat_minor": 5
}
