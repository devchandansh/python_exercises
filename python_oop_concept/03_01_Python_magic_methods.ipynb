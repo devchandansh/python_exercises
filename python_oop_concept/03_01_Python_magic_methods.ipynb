{
 "cells": [
  {
   "cell_type": "markdown",
   "id": "462ed29d-8031-4a70-bb3c-9bdbfe2e6d93",
   "metadata": {},
   "source": [
    "# Python Magic Methods:"
   ]
  },
  {
   "cell_type": "code",
   "execution_count": null,
   "id": "aaf82e04-75b8-4644-89a5-d152d43648d5",
   "metadata": {},
   "outputs": [],
   "source": []
  }
 ],
 "metadata": {
  "kernelspec": {
   "display_name": "Python 3 (ipykernel)",
   "language": "python",
   "name": "python3"
  },
  "language_info": {
   "codemirror_mode": {
    "name": "ipython",
    "version": 3
   },
   "file_extension": ".py",
   "mimetype": "text/x-python",
   "name": "python",
   "nbconvert_exporter": "python",
   "pygments_lexer": "ipython3",
   "version": "3.11.5"
  }
 },
 "nbformat": 4,
 "nbformat_minor": 5
}
