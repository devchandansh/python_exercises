{
 "cells": [
  {
   "cell_type": "markdown",
   "id": "8a4154e9-b5cc-4aa8-b072-9955ab305318",
   "metadata": {},
   "source": [
    "# Class Inheritance:"
   ]
  },
  {
   "cell_type": "code",
   "execution_count": 4,
   "id": "1230eba7-2b02-4d6b-b5e3-388530fa2dbc",
   "metadata": {},
   "outputs": [
    {
     "name": "stdout",
     "output_type": "stream",
     "text": [
      "Aldous Huxley\n",
      "New York Times Company\n",
      "29.0 5.99 6.0\n"
     ]
    }
   ],
   "source": [
    "# Python Object Oriented Programming example\n",
    "# Understanding class inheritance\n",
    "\n",
    "\n",
    "class Book:\n",
    "    def __init__(self, title, author, pages, price):\n",
    "        self.title = title\n",
    "        self.price = price\n",
    "        self.author = author\n",
    "        self.pages = pages\n",
    "\n",
    "\n",
    "class Magazine:\n",
    "    def __init__(self, title, publisher, price, period):\n",
    "        self.title = title\n",
    "        self.price = price\n",
    "        self.period = period\n",
    "        self.publisher = publisher\n",
    "\n",
    "\n",
    "class Newspaper:\n",
    "    def __init__(self, title, publisher, price, period):\n",
    "        self.title = title\n",
    "        self.price = price\n",
    "        self.period = period\n",
    "        self.publisher = publisher\n",
    "\n",
    "\n",
    "b1 = Book(\"Brave New World\", \"Aldous Huxley\", 311, 29.0)\n",
    "n1 = Newspaper(\"NY Times\", \"New York Times Company\", 6.0, \"Daily\")\n",
    "m1 = Magazine(\"Scientific American\", \"Springer Nature\", 5.99, \"Monthly\")\n",
    "\n",
    "print(b1.author)\n",
    "print(n1.publisher)\n",
    "print(b1.price, m1.price, n1.price)"
   ]
  },
  {
   "cell_type": "markdown",
   "id": "afbcbd5d-f615-49ed-954c-61ae491a2ec7",
   "metadata": {},
   "source": [
    "## Use of Class Inheritance"
   ]
  },
  {
   "cell_type": "code",
   "execution_count": 7,
   "id": "ffea0cd7-8ed1-41ef-bfcc-e8d69fbcfeb2",
   "metadata": {},
   "outputs": [
    {
     "name": "stdout",
     "output_type": "stream",
     "text": [
      "b1 Author: Aldous Huxley\n",
      "n1 Publisher: New York Times Company\n",
      "b1 Price: 29.0\n",
      "m1 Price: 5.99\n",
      "n1 Price: 6.0\n"
     ]
    }
   ],
   "source": [
    "# Parent Class:\n",
    "class Publication:\n",
    "    def __init__(self, title, price):\n",
    "        self.title = title\n",
    "        self.price = price\n",
    "\n",
    "\n",
    "# Class Periodical Inherits Parent Class Publication:\n",
    "class Periodical(Publication):\n",
    "    def __init__(self, title, price, period, publisher):\n",
    "        super().__init__(title, price)\n",
    "        self.period = period\n",
    "        self.publisher = publisher\n",
    "\n",
    "\n",
    "# Book Class inherits Prent Class Publication \n",
    "class Book(Publication):\n",
    "    def __init__(self, title, author, pages, price):\n",
    "        super().__init__(title, price)\n",
    "        self.author = author\n",
    "        self.pages = pages\n",
    "\n",
    "\n",
    "# Class Magazine Inherits Parent Class Periodical\n",
    "class Magazine(Periodical):\n",
    "    def __init__(self, title, publisher, price, period):\n",
    "        super().__init__(title, price, period, publisher)\n",
    "\n",
    "\n",
    "# Class Newspaper Inherits Parent Class Periodical\n",
    "class Newspaper(Periodical):\n",
    "    def __init__(self, title, publisher, price, period):\n",
    "        super().__init__(title, price, period, publisher)\n",
    "\n",
    "\n",
    "b1 = Book(\"Brave New World\", \"Aldous Huxley\", 311, 29.0)\n",
    "n1 = Newspaper(\"NY Times\", \"New York Times Company\", 6.0, \"Daily\")\n",
    "m1 = Magazine(\"Scientific American\", \"Springer Nature\", 5.99, \"Monthly\")\n",
    "\n",
    "print(\"b1 Author:\", b1.author)\n",
    "print(\"n1 Publisher:\", n1.publisher)\n",
    "print(\"b1 Price:\", b1.price)\n",
    "print(\"m1 Price:\", m1.price)\n",
    "print(\"n1 Price:\", n1.price)"
   ]
  },
  {
   "cell_type": "code",
   "execution_count": null,
   "id": "b73dd266-6f18-42ae-bb73-234e3318a0b6",
   "metadata": {},
   "outputs": [],
   "source": []
  }
 ],
 "metadata": {
  "kernelspec": {
   "display_name": "Python 3 (ipykernel)",
   "language": "python",
   "name": "python3"
  },
  "language_info": {
   "codemirror_mode": {
    "name": "ipython",
    "version": 3
   },
   "file_extension": ".py",
   "mimetype": "text/x-python",
   "name": "python",
   "nbconvert_exporter": "python",
   "pygments_lexer": "ipython3",
   "version": "3.11.5"
  }
 },
 "nbformat": 4,
 "nbformat_minor": 5
}
