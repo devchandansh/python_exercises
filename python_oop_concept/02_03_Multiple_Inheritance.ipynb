{
 "cells": [
  {
   "cell_type": "markdown",
   "id": "8503b54a-aedf-4000-bc41-95939a3b040e",
   "metadata": {},
   "source": [
    "# Multiple Inheritance:"
   ]
  },
  {
   "cell_type": "code",
   "execution_count": 1,
   "id": "e504bc58-d628-4f5f-b720-f500282db345",
   "metadata": {},
   "outputs": [
    {
     "name": "stdout",
     "output_type": "stream",
     "text": [
      "(<class '__main__.C'>, <class '__main__.B'>, <class '__main__.A'>, <class 'object'>)\n",
      "prop1\n",
      "prop2\n",
      "Class B\n"
     ]
    }
   ],
   "source": [
    "# Python Object Oriented Programming by Joe Marini course example\n",
    "# Understanding multiple inheritance\n",
    "\n",
    "\n",
    "class A:\n",
    "    def __init__(self):\n",
    "        super().__init__()\n",
    "        self.prop1 = \"prop1\"\n",
    "        self.name = \"Class A\"\n",
    "\n",
    "\n",
    "class B:\n",
    "    def __init__(self):\n",
    "        super().__init__()\n",
    "        self.prop2 = \"prop2\"\n",
    "        self.name = \"Class B\"\n",
    "\n",
    "\n",
    "class C(B, A):\n",
    "    def __init__(self):\n",
    "        super().__init__()\n",
    "\n",
    "    def showprops(self):\n",
    "        print(self.prop1)\n",
    "        print(self.prop2)\n",
    "        print(self.name)\n",
    "\n",
    "\n",
    "# create the class and call showprops()\n",
    "c = C()\n",
    "print(C.__mro__)\n",
    "c.showprops()"
   ]
  },
  {
   "cell_type": "markdown",
   "id": "eed378f5-0cf8-4b81-88e4-3d888ac4c755",
   "metadata": {},
   "source": [
    "Here, If both Inherited Parent Class as the same property. Then the Parent Class defined as order will get the priority.\n",
    "\n",
    "First Define Super class will get the first priority."
   ]
  },
  {
   "cell_type": "code",
   "execution_count": 3,
   "id": "1e525327-9b39-4cd4-9f3c-f0cf48095ac1",
   "metadata": {},
   "outputs": [
    {
     "data": {
      "text/plain": [
       "{'prop1': 'prop1', 'name': 'Class B', 'prop2': 'prop2'}"
      ]
     },
     "execution_count": 3,
     "metadata": {},
     "output_type": "execute_result"
    }
   ],
   "source": [
    "# Show the No of Instances Used:\n",
    "\n",
    "c.__dict__"
   ]
  },
  {
   "cell_type": "code",
   "execution_count": null,
   "id": "c43b3852-2607-4691-b1ab-90b0d08fef5f",
   "metadata": {},
   "outputs": [],
   "source": []
  },
  {
   "cell_type": "code",
   "execution_count": null,
   "id": "9343756f-62f5-43a7-9535-eeeba860649c",
   "metadata": {},
   "outputs": [],
   "source": []
  }
 ],
 "metadata": {
  "kernelspec": {
   "display_name": "Python 3 (ipykernel)",
   "language": "python",
   "name": "python3"
  },
  "language_info": {
   "codemirror_mode": {
    "name": "ipython",
    "version": 3
   },
   "file_extension": ".py",
   "mimetype": "text/x-python",
   "name": "python",
   "nbconvert_exporter": "python",
   "pygments_lexer": "ipython3",
   "version": "3.11.5"
  }
 },
 "nbformat": 4,
 "nbformat_minor": 5
}
