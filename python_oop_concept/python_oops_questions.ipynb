{
 "cells": [
  {
   "cell_type": "markdown",
   "id": "22e148fe-aea7-48ae-9afc-b30479b6b34d",
   "metadata": {},
   "source": [
    "# Python Object Oriented Questions:"
   ]
  },
  {
   "cell_type": "markdown",
   "id": "96cc08b2-9573-4f62-ac07-cb7cc93c55a0",
   "metadata": {},
   "source": [
    "##### What is the key difference between class variables and instance variables?"
   ]
  },
  {
   "cell_type": "markdown",
   "id": "573ef5f5-d493-4a45-9c78-97d3d61eb85f",
   "metadata": {},
   "source": [
    "Class variables are shared among all instances of the class, while instance variables are unique to each instance."
   ]
  },
  {
   "cell_type": "markdown",
   "id": "96ecdcdb-5925-43bc-a6b3-d37a0b4ebd80",
   "metadata": {},
   "source": [
    "##### In the case of multiple inheritance, if two base classes have methods with the same name, and a derived class calls this method, which method will be executed?"
   ]
  },
  {
   "cell_type": "markdown",
   "id": "39584e67-ffd0-476e-9b10-72663646d17d",
   "metadata": {},
   "source": [
    "The method of the first base class listed in the inheritance chain will be executed.\n"
   ]
  },
  {
   "cell_type": "markdown",
   "id": "1197138f-4912-4a92-b94d-c71dff03fdc4",
   "metadata": {},
   "source": [
    "##### What is multiple inheritance in Python?"
   ]
  },
  {
   "cell_type": "markdown",
   "id": "f4bd5aa2-6f11-407c-865e-6287a63d5675",
   "metadata": {},
   "source": [
    "It is the ability to inherit from multiple classes simultaneously."
   ]
  },
  {
   "cell_type": "markdown",
   "id": "e22a347c-02da-49de-9710-a8e263ed88ed",
   "metadata": {},
   "source": [
    "##### In Python, how do you define an Abstract Base Class using the abc module?"
   ]
  },
  {
   "cell_type": "markdown",
   "id": "189547dd-e6ef-4d31-8eb4-7ba42ab98ae8",
   "metadata": {},
   "source": [
    "by creating a class that inherits from the abc.ABC base class"
   ]
  },
  {
   "cell_type": "markdown",
   "id": "85fb82f4-bcdc-43ff-9ce3-c0b28af6c8f0",
   "metadata": {},
   "source": [
    "##### What is object composition in Python, and how does it differ from inheritance?"
   ]
  },
  {
   "cell_type": "markdown",
   "id": "6406c83e-d10b-4b85-bd64-f5402bd11a2f",
   "metadata": {},
   "source": [
    "Object composition is a way to create new objects by combining them using references to other objects, while inheritance is a way to create new classes by inheriting attributes and methods from other classes."
   ]
  },
  {
   "cell_type": "markdown",
   "id": "281fdf08-1249-4e65-ba39-b47799ff5bc3",
   "metadata": {},
   "source": [
    "##### What is the primary purpose of creating and using an interface?"
   ]
  },
  {
   "cell_type": "markdown",
   "id": "655a70f4-fcdd-4d9e-8b48-5f3e3108b11d",
   "metadata": {},
   "source": [
    "to enforce that classes inheriting from the interface must implement certain methods"
   ]
  },
  {
   "cell_type": "markdown",
   "id": "726c9c9c-dad5-4d38-b2b7-29e734bd329e",
   "metadata": {},
   "source": [
    "##### What is the correct syntax for calling a base class method from another Python method in a subclass?"
   ]
  },
  {
   "cell_type": "code",
   "execution_count": 4,
   "id": "bf271662-b9d7-4896-aac3-ebdfa094879b",
   "metadata": {},
   "outputs": [],
   "source": [
    "# super().method_name()"
   ]
  },
  {
   "cell_type": "markdown",
   "id": "c5a15e55-f9f0-4e37-8c40-75e497374f87",
   "metadata": {},
   "source": [
    "## Magic Methods:"
   ]
  },
  {
   "cell_type": "markdown",
   "id": "ee070ada-b91a-439b-8d7b-6968b2bab4d1",
   "metadata": {},
   "source": [
    "##### What is the main purpose of the eq method when defining it in a class?"
   ]
  },
  {
   "cell_type": "markdown",
   "id": "7d1afc2e-2ad9-43fb-ae47-926260ec7302",
   "metadata": {},
   "source": [
    "to compare two objects for structural equality (whether their contents are the same)"
   ]
  },
  {
   "cell_type": "markdown",
   "id": "8c656bcc-dbe1-4535-b37b-2c0127cbdace",
   "metadata": {},
   "source": [
    "##### What is the primary purpose of the call method in a Python class?"
   ]
  },
  {
   "cell_type": "markdown",
   "id": "f15d0e31-68f7-46cc-9627-c6906eb93c2e",
   "metadata": {},
   "source": [
    "to allow instances of the class to be called like functions"
   ]
  },
  {
   "cell_type": "markdown",
   "id": "d4c09cc0-d569-4065-81c0-34795286b65e",
   "metadata": {},
   "source": [
    "##### What is the primary purpose of the getattr method in Python classes?"
   ]
  },
  {
   "cell_type": "markdown",
   "id": "9294d68c-f2fd-4686-b621-d38b87d67c9e",
   "metadata": {},
   "source": [
    "to intercept attempts to access undefined attributes and customize behavior"
   ]
  },
  {
   "cell_type": "markdown",
   "id": "707ac833-a8ca-429b-9376-39616c78b58a",
   "metadata": {},
   "source": [
    "##### What is the primary difference between the str() and repr() functions when applied to an object?"
   ]
  },
  {
   "cell_type": "markdown",
   "id": "c231e0f7-4c9d-4995-afc1-fdc7b5209398",
   "metadata": {},
   "source": [
    "str() returns a string representation of an object for end-users, while repr() returns a string representation primarily intended for developers."
   ]
  },
  {
   "cell_type": "code",
   "execution_count": null,
   "id": "aaa25ef6-dadd-4e1e-8b21-4ffa0c1a2ed3",
   "metadata": {},
   "outputs": [],
   "source": []
  }
 ],
 "metadata": {
  "kernelspec": {
   "display_name": "Python 3 (ipykernel)",
   "language": "python",
   "name": "python3"
  },
  "language_info": {
   "codemirror_mode": {
    "name": "ipython",
    "version": 3
   },
   "file_extension": ".py",
   "mimetype": "text/x-python",
   "name": "python",
   "nbconvert_exporter": "python",
   "pygments_lexer": "ipython3",
   "version": "3.11.5"
  }
 },
 "nbformat": 4,
 "nbformat_minor": 5
}
